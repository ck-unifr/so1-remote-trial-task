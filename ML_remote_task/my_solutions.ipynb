{
 "cells": [
  {
   "cell_type": "markdown",
   "metadata": {},
   "source": [
    "## SO1 Remote Trial\n",
    "\n",
    "Name: Kai Chen\n",
    "\n",
    "Date: Mar, 2018"
   ]
  },
  {
   "cell_type": "markdown",
   "metadata": {},
   "source": [
    "## Task1\n",
    "\n",
    "A comsumer $i$ shops in week $t$ at a retailer $r$. The retailer carries several categories $c$. In each category $c$, the retailer offers multiple products $j$. The comsumers decision process, that is the probability that consumer $i$ purchases $q_{ijt}$ units of product $j$ in week $t$, can be modeled by\n",
    "\n",
    "$P(Q_{ijt}=q_{ijt}) = P(I_{ict}=1)P(C_{it}=j \\mid I_{ict} = 1) P(Q_{ijt} \\mid I_{ict}= 1 \\bigwedge C_{it} = j)$\n",
    "\n",
    "### My answers:\n",
    "\n",
    "#### Question 1\n",
    "$P(I_{ict}=1) = 0.5$. It is a Bernoulli distribution.\n",
    "\n",
    "$P(C_{it}=j \\mid I_{ict} = 1) = \\frac{1}{N_{c}}$, where $N_{c}$ is the number of different products in category $c$. It is a Uniform distribution.\n",
    "\n",
    "$P(Q_{ijt} \\mid I_{ict}= 1 \\bigwedge C_{it} = j) = \\frac{1}{\\sqrt{2\\pi\\sigma_{ij}^2}} e^{-\\frac{(q_{ijt}-\\mu_{ij})^2}{2\\sigma_{ij}^2}}$, where $\\mu_{ij}$ is $\\mu_{ij}$ the mean of the number of products $j$ purchased by user $i$ in a week and $\\sigma_{ij}$ is the standard deviation of number of product $j$ purchased by user $i$ in a week. This could be a normal distribution.\n",
    "\n",
    "#### Question 2\n",
    "In my opinion the advertisement, discount, user revenu, season drive the category purchase incidence.\n",
    "\n",
    "#### Question 3\n",
    "Other factors could influence product choice are:\n",
    "- the purchase history, e.g., if user $i$ purchased product $j$ in the previous weeks, the likehood of choosing product $j$ in this week will be high\n",
    "- correction between the products, e.g., if user $i$ purchased product $a$, the likehood of choosing product $b$ will be high \n",
    "- the changement of product's package, description could also influence the choice.\n"
   ]
  },
  {
   "cell_type": "markdown",
   "metadata": {},
   "source": [
    "## Task 2 \n",
    "\n",
    "The script of my solution can be found in 'task2.py'"
   ]
  },
  {
   "cell_type": "code",
   "execution_count": null,
   "metadata": {
    "collapsed": true
   },
   "outputs": [],
   "source": []
  },
  {
   "cell_type": "code",
   "execution_count": null,
   "metadata": {
    "collapsed": true
   },
   "outputs": [],
   "source": []
  }
 ],
 "metadata": {
  "kernelspec": {
   "display_name": "Python 3",
   "language": "python",
   "name": "python3"
  },
  "language_info": {
   "codemirror_mode": {
    "name": "ipython",
    "version": 3
   },
   "file_extension": ".py",
   "mimetype": "text/x-python",
   "name": "python",
   "nbconvert_exporter": "python",
   "pygments_lexer": "ipython3",
   "version": "3.6.2"
  }
 },
 "nbformat": 4,
 "nbformat_minor": 2
}
